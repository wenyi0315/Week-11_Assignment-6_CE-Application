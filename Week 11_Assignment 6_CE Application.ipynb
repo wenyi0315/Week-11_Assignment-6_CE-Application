{
 "cells": [
  {
   "cell_type": "code",
   "execution_count": 2,
   "id": "a87e44f2",
   "metadata": {},
   "outputs": [
    {
     "name": "stdout",
     "output_type": "stream",
     "text": [
      "1377.5 9672.0 0.14242142266335814\n",
      "2.160072595281307 0.0 0.0\n",
      "15.0 130.0\n"
     ]
    }
   ],
   "source": [
    "import scipy.linalg as sc\n",
    "\n",
    "def calc_Cmin(mh, mc, Cph, Cpc):\n",
    "    return min(mh*Cph, mc*Cpc)\n",
    "\n",
    "def calc_Cmax(mh, mc, Cph, Cpc):\n",
    "    return max(mh*Cph, mc*Cpc)\n",
    "\n",
    "def calc_Cr(mh, mc, Cph, Cpc):\n",
    "    return calc_Cmin(mh, mc, Cph, Cpc) / calc_Cmax(mh, mc, Cph, Cpc)\n",
    "\n",
    "def NTU_from_UA(UA, Cmin):\n",
    "    return UA / Cmin\n",
    "\n",
    "def effectiveness_from_NTU(NTU, Cr, subtype):\n",
    "    return 0.0\n",
    "\n",
    "U = 275  # W/m^2/K\n",
    "A = 10.82  # m^2\n",
    "Cp_oil = 1900  # J/kg/K\n",
    "Cp_steam = 1860  # J/kg/K\n",
    "m_steam = 5.2  # kg/s\n",
    "m_oil = 0.725  # kg/s\n",
    "Thi = 130  # °C\n",
    "Tci = 15  # °C\n",
    "\n",
    "Cmin = calc_Cmin(mh=m_steam, mc=m_oil, Cph=Cp_steam, Cpc=Cp_oil)\n",
    "Cmax = calc_Cmax(mh=m_steam, mc=m_oil, Cph=Cp_steam, Cpc=Cp_oil)\n",
    "Cr = calc_Cr(mh=m_steam, mc=m_oil, Cph=Cp_steam, Cpc=Cp_oil)\n",
    "NTU = NTU_from_UA(UA=U * A, Cmin=Cmin)\n",
    "eff = effectiveness_from_NTU(NTU=NTU, Cr=Cr, subtype='crossflow, mixed Cmax')\n",
    "\n",
    "Q = eff * Cmin * (Thi - Tci)\n",
    "Tco = Tci + Q / (m_oil * Cp_oil)\n",
    "Tho = Thi - Q / (m_steam * Cp_steam)\n",
    "\n",
    "print(Cmin, Cmax, Cr)\n",
    "print(NTU, eff, Q)\n",
    "print(Tco, Tho)"
   ]
  },
  {
   "cell_type": "code",
   "execution_count": null,
   "id": "3bdf8a32",
   "metadata": {},
   "outputs": [],
   "source": []
  }
 ],
 "metadata": {
  "kernelspec": {
   "display_name": "Python 3 (ipykernel)",
   "language": "python",
   "name": "python3"
  },
  "language_info": {
   "codemirror_mode": {
    "name": "ipython",
    "version": 3
   },
   "file_extension": ".py",
   "mimetype": "text/x-python",
   "name": "python",
   "nbconvert_exporter": "python",
   "pygments_lexer": "ipython3",
   "version": "3.11.5"
  }
 },
 "nbformat": 4,
 "nbformat_minor": 5
}
